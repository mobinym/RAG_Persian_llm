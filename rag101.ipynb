{
 "cells": [
  {
   "cell_type": "code",
   "execution_count": 15,
   "id": "d215c37c-f6d0-4392-91b3-35280db3a5eb",
   "metadata": {},
   "outputs": [],
   "source": [
    "from langchain_ollama import OllamaLLM\n",
    "from langchain.text_splitter import RecursiveCharacterTextSplitter\n",
    "from langchain_huggingface import HuggingFaceEmbeddings\n",
    "from langchain_community.vectorstores import FAISS\n",
    "from langchain.prompts import PromptTemplate\n",
    "from langchain.chains import RetrievalQA\n",
    "from langchain_community.document_loaders import DirectoryLoader, TextLoader\n",
    "import os"
   ]
  },
  {
   "cell_type": "code",
   "execution_count": 16,
   "id": "804aa68a-4b0c-4757-9eba-b9f7812ed37f",
   "metadata": {},
   "outputs": [
    {
     "name": "stdout",
     "output_type": "stream",
     "text": [
      "File 'C:\\Users\\r.esmkhani\\Desktop\\langChain\\rezone.docx' found successfully.\n"
     ]
    }
   ],
   "source": [
    "file_path = r\"C:\\Users\\r.esmkhani\\Desktop\\langChain\\rezone.docx\"\n",
    "\n",
    "# Verify file exists\n",
    "if not os.path.exists(file_path):\n",
    "    print(f\"Error: The file '{file_path}' does not exist. Please check the path and try again.\")\n",
    "else:\n",
    "    print(f\"File '{file_path}' found successfully.\")"
   ]
  },
  {
   "cell_type": "code",
   "execution_count": 17,
   "id": "e95bb16c-1be4-40a9-89e2-82e41e1e915c",
   "metadata": {},
   "outputs": [
    {
     "name": "stdout",
     "output_type": "stream",
     "text": [
      "Loaded 1 document(s).\n",
      "First 100 characters of the document:\n",
      "صفحه: 1\n",
      "\n",
      "آدمیان\n",
      "آد آرویا قلی پو\n",
      "۱ ۱\n",
      "\n",
      "\n",
      "صفحه: 2\n",
      "\n",
      "سرشناسه: قلی‌پورء زویاء ۱۳۶۰\n",
      "عنوان و نام‌پدیدآور: آدم\n"
     ]
    }
   ],
   "source": [
    "try:\n",
    "    loader = Docx2txtLoader(file_path)\n",
    "    documents = loader.load()\n",
    "    print(f\"Loaded {len(documents)} document(s).\")\n",
    "    if documents:\n",
    "        print(\"First 100 characters of the document:\")\n",
    "        print(documents[0].page_content[:100])\n",
    "except Exception as e:\n",
    "    print(f\"Error loading the file: {e}\")"
   ]
  },
  {
   "cell_type": "code",
   "execution_count": 18,
   "id": "7cb2520a-555a-4f37-99ee-2c3ad1a12c90",
   "metadata": {},
   "outputs": [
    {
     "name": "stdout",
     "output_type": "stream",
     "text": [
      "Created 193 chunks.\n",
      "First 100 characters of the first chunk:\n",
      "صفحه: 1\n",
      "\n",
      "آدمیان\n",
      "آد آرویا قلی پو\n",
      "۱ ۱\n",
      "\n",
      "\n",
      "صفحه: 2\n",
      "\n",
      "سرشناسه: قلی‌پورء زویاء ۱۳۶۰\n",
      "عنوان و نام‌پدیدآور: آدم\n"
     ]
    }
   ],
   "source": [
    "try:\n",
    "    text_splitter = RecursiveCharacterTextSplitter(\n",
    "        chunk_size=1000,\n",
    "        chunk_overlap=200,\n",
    "        length_function=len,\n",
    "        separators=[\"\\n\\n\", \"\\n\", \" \", \"\"]\n",
    "    )\n",
    "    chunks = text_splitter.split_documents(documents)\n",
    "    print(f\"Created {len(chunks)} chunks.\")\n",
    "    if chunks:\n",
    "        print(\"First 100 characters of the first chunk:\")\n",
    "        print(chunks[0].page_content[:100])\n",
    "except Exception as e:\n",
    "    print(f\"Error chunking the document: {e}\")"
   ]
  },
  {
   "cell_type": "code",
   "execution_count": 19,
   "id": "e211d93c-834c-4de9-ab3c-f2478b89a3fc",
   "metadata": {},
   "outputs": [
    {
     "name": "stderr",
     "output_type": "stream",
     "text": [
      "C:\\Users\\r.esmkhani\\anaconda3\\envs\\langchain\\Lib\\site-packages\\tqdm\\auto.py:21: TqdmWarning: IProgress not found. Please update jupyter and ipywidgets. See https://ipywidgets.readthedocs.io/en/stable/user_install.html\n",
      "  from .autonotebook import tqdm as notebook_tqdm\n"
     ]
    }
   ],
   "source": [
    "embedding_model = HuggingFaceEmbeddings(model_name=\"BAAI/bge-m3\")"
   ]
  },
  {
   "cell_type": "code",
   "execution_count": 20,
   "id": "b931c4ce-630b-4005-8d64-e40b02e7716a",
   "metadata": {},
   "outputs": [
    {
     "name": "stdout",
     "output_type": "stream",
     "text": [
      "Vector store created.\n"
     ]
    }
   ],
   "source": [
    "vector_store = FAISS.from_documents(chunks, embedding_model)\n",
    "print(\"Vector store created.\")"
   ]
  },
  {
   "cell_type": "code",
   "execution_count": 21,
   "id": "84df1377-4897-4671-a7e2-e3b5030e903d",
   "metadata": {},
   "outputs": [],
   "source": [
    "llm = OllamaLLM(model=\"gemma3\")"
   ]
  },
  {
   "cell_type": "code",
   "execution_count": 22,
   "id": "abafb23b-bad8-4b77-8a8a-562b7f6fb382",
   "metadata": {},
   "outputs": [],
   "source": [
    "prompt_template = \"\"\"با استفاده از اطلاعات زیر، به سوال پاسخ دهید. اگر نمی‌دانید، بگویید که نمی‌دانم.\n",
    "\n",
    "زمینه: {context}\n",
    "\n",
    "سوال: {question}\n",
    "\n",
    "پاسخ: \"\"\"\n",
    "prompt = PromptTemplate(\n",
    "    template=prompt_template,\n",
    "    input_variables=[\"context\", \"question\"]\n",
    ")"
   ]
  },
  {
   "cell_type": "code",
   "execution_count": 23,
   "id": "665acc82-42df-43f3-9b08-55683b61b6c8",
   "metadata": {},
   "outputs": [],
   "source": [
    "rag_chain = RetrievalQA.from_chain_type(\n",
    "    llm=llm,\n",
    "    chain_type=\"stuff\",\n",
    "    retriever=vector_store.as_retriever(search_kwargs={\"k\": 3}),\n",
    "    chain_type_kwargs={\"prompt\": prompt}\n",
    ")"
   ]
  },
  {
   "cell_type": "code",
   "execution_count": 28,
   "id": "a205da18-7fbd-4ef2-b874-d4470b9a21c1",
   "metadata": {},
   "outputs": [
    {
     "name": "stdout",
     "output_type": "stream",
     "text": [
      "مادر برای اینکه پسر از رعد و برق نترسد، آن را به یک \"هوا\" با نورهای جالب تشبیه کرد که شبیه ریشه درخت است.\n"
     ]
    }
   ],
   "source": [
    "query = \"مادر برای اینکه پسر از رعد و برق نترسد آن را به چه چیزی تشبیه کرد ؟\"\n",
    "result = rag_chain({\"query\": query})\n",
    "print(result[\"result\"])"
   ]
  },
  {
   "cell_type": "code",
   "execution_count": null,
   "id": "d13610df-b701-45bb-ba55-37deaa5e074f",
   "metadata": {},
   "outputs": [],
   "source": []
  }
 ],
 "metadata": {
  "kernelspec": {
   "display_name": "Python 3 (ipykernel)",
   "language": "python",
   "name": "python3"
  },
  "language_info": {
   "codemirror_mode": {
    "name": "ipython",
    "version": 3
   },
   "file_extension": ".py",
   "mimetype": "text/x-python",
   "name": "python",
   "nbconvert_exporter": "python",
   "pygments_lexer": "ipython3",
   "version": "3.12.11"
  }
 },
 "nbformat": 4,
 "nbformat_minor": 5
}
